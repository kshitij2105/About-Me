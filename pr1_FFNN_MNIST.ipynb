{
  "cells": [
    {
      "cell_type": "markdown",
      "metadata": {
        "id": "view-in-github",
        "colab_type": "text"
      },
      "source": [
        "<a href=\"https://colab.research.google.com/github/kshitij2105/About-Me/blob/main/pr1_FFNN_MNIST.ipynb\" target=\"_parent\"><img src=\"https://colab.research.google.com/assets/colab-badge.svg\" alt=\"Open In Colab\"/></a>"
      ]
    },
    {
      "cell_type": "code",
      "execution_count": 1,
      "id": "df60d37f",
      "metadata": {
        "id": "df60d37f"
      },
      "outputs": [],
      "source": [
        "import tensorflow as tf    #https://www.youtube.com/watch?v=_c_x8A3mNDk"
      ]
    },
    {
      "cell_type": "code",
      "execution_count": 2,
      "id": "d8226f6b-ec05-422b-9a2f-ec0bd0a549bc",
      "metadata": {
        "id": "d8226f6b-ec05-422b-9a2f-ec0bd0a549bc"
      },
      "outputs": [],
      "source": [
        "import os\n",
        "os.environ['KMP_DUPLICATE_LIB_OK']='True'"
      ]
    },
    {
      "cell_type": "code",
      "execution_count": 3,
      "id": "2f1b3fb2",
      "metadata": {
        "id": "2f1b3fb2"
      },
      "outputs": [],
      "source": [
        "from tensorflow import keras\n",
        "import matplotlib.pyplot as plt\n",
        "import numpy as np"
      ]
    },
    {
      "cell_type": "code",
      "execution_count": 4,
      "id": "b6b691b8",
      "metadata": {
        "id": "b6b691b8"
      },
      "outputs": [],
      "source": [
        "data=tf.keras.datasets.mnist\n",
        "from tensorflow.keras.optimizers import SGD\n",
        "#from tensorflow.keras.datasets import mnist"
      ]
    },
    {
      "cell_type": "code",
      "execution_count": 5,
      "id": "a65b1a48",
      "metadata": {
        "colab": {
          "base_uri": "https://localhost:8080/"
        },
        "id": "a65b1a48",
        "outputId": "1f65153c-0b78-4536-cc5c-32c4bbfbb201"
      },
      "outputs": [
        {
          "output_type": "stream",
          "name": "stdout",
          "text": [
            "Downloading data from https://storage.googleapis.com/tensorflow/tf-keras-datasets/mnist.npz\n",
            "11490434/11490434 [==============================] - 0s 0us/step\n"
          ]
        }
      ],
      "source": [
        "(x_train,y_train),(x_test,y_test)=data.load_data()   # x is attribute and y is classes"
      ]
    },
    {
      "cell_type": "code",
      "execution_count": 6,
      "id": "09fd57ae",
      "metadata": {
        "colab": {
          "base_uri": "https://localhost:8080/"
        },
        "id": "09fd57ae",
        "outputId": "b87e98da-5758-4896-f6ad-ca32bf4e2357"
      },
      "outputs": [
        {
          "output_type": "execute_result",
          "data": {
            "text/plain": [
              "(10000, 28, 28)"
            ]
          },
          "metadata": {},
          "execution_count": 6
        }
      ],
      "source": [
        "x_test.shape        # show the data set of test 28 pixel , 28 pixel   picture"
      ]
    },
    {
      "cell_type": "code",
      "execution_count": 7,
      "id": "aa5437dc",
      "metadata": {
        "colab": {
          "base_uri": "https://localhost:8080/"
        },
        "id": "aa5437dc",
        "outputId": "c8bd2a60-4d25-4d74-c560-1443977a4479"
      },
      "outputs": [
        {
          "output_type": "stream",
          "name": "stdout",
          "text": [
            "[[  0   0   0   0   0   0   0   0   0   0   0   0   0   0   0   0   0   0\n",
            "    0   0   0   0   0   0   0   0   0   0]\n",
            " [  0   0   0   0   0   0   0   0   0   0   0   0   0   0   0   0   0   0\n",
            "    0   0   0   0   0   0   0   0   0   0]\n",
            " [  0   0   0   0   0   0   0   0   0   0   0   0   0   0   0   0   0   0\n",
            "    0   0   0   0   0   0   0   0   0   0]\n",
            " [  0   0   0   0   0   0   0   0   0   0   0   0   0   0   0   0   0   0\n",
            "    0   0   0   0   0   0   0   0   0   0]\n",
            " [  0   0   0   0   0   0   0   0   0   0   0   0   0   0   0   0   0   0\n",
            "    0   0   0   0   0   0   0   0   0   0]\n",
            " [  0   0   0   0   0   0   0   0   0   0   0   0   3  18  18  18 126 136\n",
            "  175  26 166 255 247 127   0   0   0   0]\n",
            " [  0   0   0   0   0   0   0   0  30  36  94 154 170 253 253 253 253 253\n",
            "  225 172 253 242 195  64   0   0   0   0]\n",
            " [  0   0   0   0   0   0   0  49 238 253 253 253 253 253 253 253 253 251\n",
            "   93  82  82  56  39   0   0   0   0   0]\n",
            " [  0   0   0   0   0   0   0  18 219 253 253 253 253 253 198 182 247 241\n",
            "    0   0   0   0   0   0   0   0   0   0]\n",
            " [  0   0   0   0   0   0   0   0  80 156 107 253 253 205  11   0  43 154\n",
            "    0   0   0   0   0   0   0   0   0   0]\n",
            " [  0   0   0   0   0   0   0   0   0  14   1 154 253  90   0   0   0   0\n",
            "    0   0   0   0   0   0   0   0   0   0]\n",
            " [  0   0   0   0   0   0   0   0   0   0   0 139 253 190   2   0   0   0\n",
            "    0   0   0   0   0   0   0   0   0   0]\n",
            " [  0   0   0   0   0   0   0   0   0   0   0  11 190 253  70   0   0   0\n",
            "    0   0   0   0   0   0   0   0   0   0]\n",
            " [  0   0   0   0   0   0   0   0   0   0   0   0  35 241 225 160 108   1\n",
            "    0   0   0   0   0   0   0   0   0   0]\n",
            " [  0   0   0   0   0   0   0   0   0   0   0   0   0  81 240 253 253 119\n",
            "   25   0   0   0   0   0   0   0   0   0]\n",
            " [  0   0   0   0   0   0   0   0   0   0   0   0   0   0  45 186 253 253\n",
            "  150  27   0   0   0   0   0   0   0   0]\n",
            " [  0   0   0   0   0   0   0   0   0   0   0   0   0   0   0  16  93 252\n",
            "  253 187   0   0   0   0   0   0   0   0]\n",
            " [  0   0   0   0   0   0   0   0   0   0   0   0   0   0   0   0   0 249\n",
            "  253 249  64   0   0   0   0   0   0   0]\n",
            " [  0   0   0   0   0   0   0   0   0   0   0   0   0   0  46 130 183 253\n",
            "  253 207   2   0   0   0   0   0   0   0]\n",
            " [  0   0   0   0   0   0   0   0   0   0   0   0  39 148 229 253 253 253\n",
            "  250 182   0   0   0   0   0   0   0   0]\n",
            " [  0   0   0   0   0   0   0   0   0   0  24 114 221 253 253 253 253 201\n",
            "   78   0   0   0   0   0   0   0   0   0]\n",
            " [  0   0   0   0   0   0   0   0  23  66 213 253 253 253 253 198  81   2\n",
            "    0   0   0   0   0   0   0   0   0   0]\n",
            " [  0   0   0   0   0   0  18 171 219 253 253 253 253 195  80   9   0   0\n",
            "    0   0   0   0   0   0   0   0   0   0]\n",
            " [  0   0   0   0  55 172 226 253 253 253 253 244 133  11   0   0   0   0\n",
            "    0   0   0   0   0   0   0   0   0   0]\n",
            " [  0   0   0   0 136 253 253 253 212 135 132  16   0   0   0   0   0   0\n",
            "    0   0   0   0   0   0   0   0   0   0]\n",
            " [  0   0   0   0   0   0   0   0   0   0   0   0   0   0   0   0   0   0\n",
            "    0   0   0   0   0   0   0   0   0   0]\n",
            " [  0   0   0   0   0   0   0   0   0   0   0   0   0   0   0   0   0   0\n",
            "    0   0   0   0   0   0   0   0   0   0]\n",
            " [  0   0   0   0   0   0   0   0   0   0   0   0   0   0   0   0   0   0\n",
            "    0   0   0   0   0   0   0   0   0   0]]\n"
          ]
        }
      ],
      "source": [
        "x_train.shape    # show the data set of training   28 pixel , 28 pixel   picture\n",
        "print(x_train[0])"
      ]
    },
    {
      "cell_type": "code",
      "execution_count": null,
      "id": "3216bbe9",
      "metadata": {
        "id": "3216bbe9"
      },
      "outputs": [],
      "source": [
        "# To perform Machine Learning, it is important to convert all the values from 0 to 255 for every pixel to a range of values from 0 to 1.\n",
        "# The simplest way is to divide the value of every pixel by 255 to get the values in the range of 0 to 1"
      ]
    },
    {
      "cell_type": "code",
      "execution_count": 8,
      "id": "3f0bc93e",
      "metadata": {
        "id": "3f0bc93e"
      },
      "outputs": [],
      "source": [
        "x_train,x_test =x_train/255,x_test/255      # Covert all values between 0 to 1"
      ]
    },
    {
      "cell_type": "code",
      "execution_count": 9,
      "id": "48f4e083",
      "metadata": {
        "id": "48f4e083"
      },
      "outputs": [],
      "source": [
        "model=tf.keras.models.Sequential([\n",
        "tf.keras.layers.Flatten(input_shape=(28,28)),      # covert 2D into  1D\n",
        "tf.keras.layers.Dense(150,activation='relu'),      #  Dense Means Fully connected Network in Hiden Layer\n",
        "tf.keras.layers.Dense(10,activation='softmax')     # classifying into 10 classes output have TEN neuron\n",
        "])"
      ]
    },
    {
      "cell_type": "code",
      "execution_count": 10,
      "id": "fb597a5a",
      "metadata": {
        "id": "fb597a5a"
      },
      "outputs": [],
      "source": [
        "# The default learning rate is 0.01 and no momentum is used by default.\n",
        "sgd=SGD(0.02)    # is learning rate  0.02\n",
        "#adam\n",
        "model.compile(optimizer='sgd', loss='sparse_categorical_crossentropy', metrics=['accuracy'])\n",
        "\n",
        "#"
      ]
    },
    {
      "cell_type": "code",
      "execution_count": 11,
      "id": "33f5e5ff",
      "metadata": {
        "colab": {
          "base_uri": "https://localhost:8080/"
        },
        "id": "33f5e5ff",
        "outputId": "9ae06886-9d48-4b2e-98ea-a4e9890dff68"
      },
      "outputs": [
        {
          "output_type": "stream",
          "name": "stdout",
          "text": [
            "Epoch 1/5\n",
            "1875/1875 [==============================] - 7s 3ms/step - loss: 0.6512 - accuracy: 0.8371 - val_loss: 0.3517 - val_accuracy: 0.9043\n",
            "Epoch 2/5\n",
            "1875/1875 [==============================] - 8s 4ms/step - loss: 0.3335 - accuracy: 0.9071 - val_loss: 0.2879 - val_accuracy: 0.9197\n",
            "Epoch 3/5\n",
            "1875/1875 [==============================] - 6s 3ms/step - loss: 0.2842 - accuracy: 0.9199 - val_loss: 0.2572 - val_accuracy: 0.9279\n",
            "Epoch 4/5\n",
            "1875/1875 [==============================] - 8s 4ms/step - loss: 0.2537 - accuracy: 0.9285 - val_loss: 0.2314 - val_accuracy: 0.9357\n",
            "Epoch 5/5\n",
            "1875/1875 [==============================] - 6s 3ms/step - loss: 0.2311 - accuracy: 0.9353 - val_loss: 0.2154 - val_accuracy: 0.9395\n"
          ]
        }
      ],
      "source": [
        "history=model.fit(x_train, y_train,validation_data=(x_test,y_test),epochs=5) # Train the model\n"
      ]
    },
    {
      "cell_type": "code",
      "execution_count": 12,
      "id": "88182f77",
      "metadata": {
        "colab": {
          "base_uri": "https://localhost:8080/"
        },
        "id": "88182f77",
        "outputId": "9edae00d-3a5b-487b-fd31-068d1c822e2e"
      },
      "outputs": [
        {
          "output_type": "stream",
          "name": "stdout",
          "text": [
            "313/313 [==============================] - 1s 2ms/step - loss: 0.2154 - accuracy: 0.9395\n"
          ]
        }
      ],
      "source": [
        "# Evaluate the model\n",
        "test_loss,test_acc=model.evaluate(x_test,y_test)\n"
      ]
    },
    {
      "cell_type": "code",
      "execution_count": 19,
      "id": "97bece30",
      "metadata": {
        "colab": {
          "base_uri": "https://localhost:8080/",
          "height": 466
        },
        "id": "97bece30",
        "outputId": "961cfe13-626f-405e-bc3a-8e17b1f1d167"
      },
      "outputs": [
        {
          "output_type": "stream",
          "name": "stdout",
          "text": [
            "313/313 [==============================] - 1s 2ms/step\n",
            "4\n"
          ]
        },
        {
          "output_type": "display_data",
          "data": {
            "text/plain": [
              "<Figure size 640x480 with 1 Axes>"
            ],
            "image/png": "[encoded data removed]"
          },
          "metadata": {}
        }
      ],
      "source": [
        "plt.imshow(x_test[9])\n",
        "prediction=model.predict(x_test)   #predict the data\n",
        "print(np.argmax(prediction[4]))   # print data depend on max probaiblites\n",
        "#plt.show()"
      ]
    },
    {
      "cell_type": "code",
      "execution_count": 26,
      "id": "b8cab358",
      "metadata": {
        "colab": {
          "base_uri": "https://localhost:8080/",
          "height": 472
        },
        "id": "b8cab358",
        "outputId": "94a9c4e3-b23d-4131-b4e2-1f1107df02c4"
      },
      "outputs": [
        {
          "output_type": "display_data",
          "data": {
            "text/plain": [
              "<Figure size 640x480 with 1 Axes>"
            ],
            "image/png": "[encoded data removed]"
          },
          "metadata": {}
        }
      ],
      "source": [
        "\n",
        "\n",
        "plt.plot(history.history['accuracy'], label='Training Accuracy', linestyle='-', color='blue', marker='o')\n",
        "plt.plot(history.history['val_accuracy'], label='Validation Accuracy', linestyle='--', color='green', marker='s')\n",
        "\n",
        "\n",
        "plt.plot(history.history['loss'], label='Training Loss', linestyle='-', color='red', marker='o')\n",
        "plt.plot(history.history['val_loss'], label='Validation Loss', linestyle='--', color='orange', marker='s')\n",
        "\n",
        "\n",
        "plt.title('Training and Validation Metrics')\n",
        "plt.xlabel('Epoch')\n",
        "plt.ylabel('Accuracy / Loss')\n",
        "\n",
        "\n",
        "plt.legend()\n",
        "\n",
        "plt.grid(True)\n",
        "\n",
        "\n",
        "plt.show()\n"
      ]
    },
    {
      "cell_type": "code",
      "execution_count": null,
      "id": "0dd19cde",
      "metadata": {
        "id": "0dd19cde"
      },
      "outputs": [],
      "source": []
    }
  ],
  "metadata": {
    "kernelspec": {
      "display_name": "Python 3 (ipykernel)",
      "language": "python",
      "name": "python3"
    },
    "language_info": {
      "codemirror_mode": {
        "name": "ipython",
        "version": 3
      },
      "file_extension": ".py",
      "mimetype": "text/x-python",
      "name": "python",
      "nbconvert_exporter": "python",
      "pygments_lexer": "ipython3",
      "version": "3.9.12"
    },
    "colab": {
      "provenance": [],
      "include_colab_link": true
    }
  },
  "nbformat": 4,
  "nbformat_minor": 5
}